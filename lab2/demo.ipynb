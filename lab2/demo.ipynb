{
 "cells": [
  {
   "cell_type": "code",
   "execution_count": 17,
   "metadata": {},
   "outputs": [],
   "source": [
    "from tester import test\n",
    "import utils"
   ]
  },
  {
   "cell_type": "markdown",
   "metadata": {},
   "source": [
    "# SD"
   ]
  },
  {
   "cell_type": "code",
   "execution_count": 18,
   "metadata": {},
   "outputs": [
    {
     "name": "stderr",
     "output_type": "stream",
     "text": [
      "INFO:root:Using device: cuda\n",
      "INFO:root:Test Accuracy: 62.370\n",
      "INFO:root:Test Loss: 1.116\n"
     ]
    },
    {
     "name": "stdout",
     "output_type": "stream",
     "text": [
      "Accuracy:  62.369791666666664\n",
      "Loss:  1.116190129916908\n"
     ]
    }
   ],
   "source": [
    "test_accuracy,test_loss,pred,label=test(\"SD\",\"D:\\Cloud\\DLP\\lab2\\weight\\\\best\\SD07-19-18-15-48.pth\",4, 438, 44, 22, 20, 1, 0.5,0.001,0.0001,None,256,(0,0),(0,5))\n",
    "# utils.plot_confusion_matrix(pred,label, classes=['left', 'right', 'foot', 'tongue'])\n",
    "print(\"Accuracy: \",test_accuracy)\n",
    "print(\"Loss: \",test_loss)"
   ]
  },
  {
   "cell_type": "markdown",
   "metadata": {},
   "source": [
    "# LOSO"
   ]
  },
  {
   "cell_type": "code",
   "execution_count": 19,
   "metadata": {},
   "outputs": [
    {
     "name": "stderr",
     "output_type": "stream",
     "text": [
      "INFO:root:Using device: cuda\n",
      "INFO:root:Test Accuracy: 58.333\n",
      "INFO:root:Test Loss: 1.152\n"
     ]
    },
    {
     "name": "stdout",
     "output_type": "stream",
     "text": [
      "Accuracy:  58.333333333333336\n",
      "Loss:  1.1517298631370068\n"
     ]
    }
   ],
   "source": [
    "test_accuracy,test_loss,pred,label=test(\"LOSO\",\"D:\\Cloud\\DLP\\lab2\\weight\\\\best\\LOSO07-19-22-10-31.pth\",4, 438, 22, 22, 20, 1, 0.5,0.0005,0.0001,None,256,(0,0),(0,5))\n",
    "# utils.plot_confusion_matrix(pred,label, classes=['left', 'right', 'foot', 'tongue'])\n",
    "print(\"Accuracy: \",test_accuracy)\n",
    "print(\"Loss: \",test_loss)"
   ]
  },
  {
   "cell_type": "markdown",
   "metadata": {},
   "source": [
    "# LS +FT"
   ]
  },
  {
   "cell_type": "code",
   "execution_count": 20,
   "metadata": {},
   "outputs": [
    {
     "name": "stderr",
     "output_type": "stream",
     "text": [
      "INFO:root:Using device: cuda\n",
      "INFO:root:Test Accuracy: 75.694\n",
      "INFO:root:Test Loss: 1.006\n"
     ]
    },
    {
     "name": "stdout",
     "output_type": "stream",
     "text": [
      "Accuracy:  75.69444444444444\n",
      "Loss:  1.0064070824947622\n"
     ]
    }
   ],
   "source": [
    "test_accuracy,test_loss,pred,label=test(\"LOSO\",\"D:\\Cloud\\DLP\\lab2\\weight\\\\best\\FT07-19-23-59-20.pth\",4, 438, 44, 22, 20, 1, 0.5,0.0001,0.0001,None,256,(0,0),(0,5))\n",
    "# utils.plot_confusion_matrix(pred,label, classes=['left', 'right', 'foot', 'tongue'])\n",
    "print(\"Accuracy: \",test_accuracy)\n",
    "print(\"Loss: \",test_loss)"
   ]
  }
 ],
 "metadata": {
  "kernelspec": {
   "display_name": "gpu",
   "language": "python",
   "name": "python3"
  },
  "language_info": {
   "codemirror_mode": {
    "name": "ipython",
    "version": 3
   },
   "file_extension": ".py",
   "mimetype": "text/x-python",
   "name": "python",
   "nbconvert_exporter": "python",
   "pygments_lexer": "ipython3",
   "version": "3.9.19"
  }
 },
 "nbformat": 4,
 "nbformat_minor": 2
}
